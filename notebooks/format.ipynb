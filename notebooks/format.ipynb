{
 "cells": [
  {
   "cell_type": "markdown",
   "metadata": {},
   "source": [
    "## 1.分析の目的\n",
    "~~~することを目的とする  \n",
    "この分析はは，仮説検証型 or 探索型のデータ分析である.  "
   ]
  },
  {
   "cell_type": "markdown",
   "metadata": {},
   "source": [
    "## 2. 分析計画\n",
    "\n",
    "### 2.1 担当者について\n",
    "以下を担当者とする．\n",
    "- 責任者 : Aさん\n",
    "- 意思決定者 : Bさん\n",
    "- 未決事項の管理・決定者 : Aさん\n",
    "- 相談窓口 : Cさん\n",
    "- データ解析者 : Aさん\n",
    "\n",
    "### 2.2 ゴール設定\n",
    "達成したい基準を決める\n",
    "\n",
    "### 2.3 成果物\n",
    "最終的な成果物についてかく\n",
    "\n",
    "### 2.4 期間の見積り\n",
    "いつまでにできるか"
   ]
  },
  {
   "cell_type": "markdown",
   "metadata": {},
   "source": [
    "## 3. データの収集\n",
    "使用するデータの収集について記述する"
   ]
  }
 ],
 "metadata": {
  "kernelspec": {
   "display_name": "Python 3",
   "language": "python",
   "name": "python3"
  },
  "language_info": {
   "codemirror_mode": {
    "name": "ipython",
    "version": 3
   },
   "file_extension": ".py",
   "mimetype": "text/x-python",
   "name": "python",
   "nbconvert_exporter": "python",
   "pygments_lexer": "ipython3",
   "version": "3.7.2"
  }
 },
 "nbformat": 4,
 "nbformat_minor": 2
}
